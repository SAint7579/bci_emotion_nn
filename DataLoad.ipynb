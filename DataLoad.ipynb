{
 "cells": [
  {
   "cell_type": "code",
   "execution_count": null,
   "metadata": {},
   "outputs": [],
   "source": [
    "import _pickle as pickle\n",
    "import numpy as np\n",
    "dir=\"D:\\BE_Project/data_preprocessed_python/s\"\n",
    "samplerate=128\n",
    "findata=np.zeros((1280, 32, 7680))\n",
    "finlabel=np.zeros((1280, 2))\n",
    "def getdata():\n",
    "    '''\n",
    "    Reads data of every subject\n",
    "    '''\n",
    "    raw=[]\n",
    "    path=dir\n",
    "    for i in range (1,33):\n",
    "        if i<10:\n",
    "            temp=pickle.load(open(path+str(0)+str(i)+'.dat','rb'),encoding='latin1')\n",
    "        else:\n",
    "            temp=pickle.load(open(path+str(i)+'.dat','rb'),encoding='latin1')\n",
    "        raw.append(temp)\n",
    "\n",
    "    # get labels: emotion for each video\n",
    "    count=len(raw)\n",
    "    # flag=True\n",
    "    tempiter=0\n",
    "    datatemp=np.zeros((1280, 32, 8064))\n",
    "    labels=np.zeros((1280, 4))\n",
    "    for inraw in raw:\n",
    "        labelstemp=inraw['labels']\n",
    "        data=inraw['data']\n",
    "        datatemp[tempiter:tempiter+40]=data[:,:32,:]\n",
    "        labels[tempiter:tempiter+40]=labelstemp\n",
    "        tempiter+=40\n",
    "\n",
    "    print(\"Data Load Complete\")\n",
    "    return datatemp, labels\n",
    "\n",
    "def removeBase(datatemp):\n",
    "    '''\n",
    "    Removes the baseline data\n",
    "    '''\n",
    "\n",
    "    print(\"Entering Preporcessing stage\")\n",
    "    for i in range(0,datatemp.shape[0]):\n",
    "        for j in range(0,datatemp.shape[1]):\n",
    "            basesum=0\n",
    "            # for k in range(0,data.shape[2]):\n",
    "            #     if k<384:\n",
    "            #         basesum=basesum+data[i,j,k]\n",
    "            #     elif k>=384:\n",
    "            #         self.data[i,j,k-384]=(data[i,j,k]-(basesum/384))\n",
    "            baseMean=np.sum(datatemp[i,j,0:(samplerate*3)])/(samplerate*3)\n",
    "            # print(baseMean,\" for i=\",i,\" ;j=\",j)\n",
    "            for k in range(samplerate*3,datatemp.shape[2]):\n",
    "                findata[i,j,k-384]=datatemp[i,j,k]-baseMean\n",
    "    return\n",
    "\n",
    "datatemp, labels=getdata()\n",
    "removeBase(datatemp)"
   ]
  },
  {
   "cell_type": "code",
   "execution_count": null,
   "metadata": {},
   "outputs": [],
   "source": [
    "def operationCleanLabels(labels):\n",
    "    for one in range(0,labels.shape[0]):\n",
    "        for two in range(0,3):\n",
    "            if labels[one,two]<5:\n",
    "                finlabel[one,two]=-1\n",
    "            elif labels[one,two]>5:\n",
    "                finlabel[one,two]=1\n",
    "    print(\"Labels done\")\n",
    "    return\n",
    "\n",
    "operationCleanLabels(labels)\n"
   ]
  }
 ],
 "metadata": {
  "kernelspec": {
   "display_name": "Python 3",
   "language": "python",
   "name": "python3"
  },
  "language_info": {
   "codemirror_mode": {
    "name": "ipython",
    "version": 3
   },
   "file_extension": ".py",
   "mimetype": "text/x-python",
   "name": "python",
   "nbconvert_exporter": "python",
   "pygments_lexer": "ipython3",
   "version": "3.7.1"
  }
 },
 "nbformat": 4,
 "nbformat_minor": 2
}
