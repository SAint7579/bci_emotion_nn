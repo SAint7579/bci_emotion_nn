{
 "cells": [
  {
   "cell_type": "markdown",
   "metadata": {},
   "source": [
    "# Dataset description\n",
    "* 32 participants [s0 to s32]\n",
    "* 40 pieces of music\n",
    "* 40 channels out of which the first 32 are relevant \n",
    "* 8064 readings recorded at 128Hz\n"
   ]
  },
  {
   "cell_type": "code",
   "execution_count": 3,
   "metadata": {
    "collapsed": true
   },
   "outputs": [],
   "source": [
    "from dataset_class import *"
   ]
  },
  {
   "cell_type": "code",
   "execution_count": 4,
   "metadata": {
    "collapsed": true
   },
   "outputs": [],
   "source": [
    "dataset = Dataset('../data_preprocessed_python/')"
   ]
  },
  {
   "cell_type": "code",
   "execution_count": 5,
   "metadata": {
    "collapsed": true,
    "scrolled": true
   },
   "outputs": [],
   "source": [
    "eeg1d,eeg2d,val,aro = dataset.get_subject_data(1,1)"
   ]
  },
  {
   "cell_type": "code",
   "execution_count": 6,
   "metadata": {},
   "outputs": [
    {
     "data": {
      "text/plain": [
       "8064"
      ]
     },
     "execution_count": 6,
     "metadata": {},
     "output_type": "execute_result"
    }
   ],
   "source": [
    "len(eeg2d.reshape(-1,9,9,1))"
   ]
  },
  {
   "cell_type": "markdown",
   "metadata": {},
   "source": [
    "# Making the dummy network\n"
   ]
  },
  {
   "cell_type": "code",
   "execution_count": 7,
   "metadata": {
    "collapsed": true
   },
   "outputs": [],
   "source": [
    "from rnn_function import *\n",
    "from cnn_function import *\n",
    "import os\n",
    "os.environ['CUDA_VISIBLE_DEVICES'] = '-1'\n",
    "import tensorflow as tf\n",
    "import numpy as np\n",
    "import matplotlib.pyplot as plt"
   ]
  },
  {
   "cell_type": "code",
   "execution_count": 8,
   "metadata": {
    "collapsed": true
   },
   "outputs": [],
   "source": [
    "#Constant :\n",
    "WINDOW_SIZE = 64\n",
    "#For rnn layers\n",
    "INPUT_NODES = 32\n",
    "HIDDEN_ST = 32\n",
    "HOLD_PROBA = 0.5\n",
    "RNN_INPUT_SIZE = 32\n",
    "\n",
    "#For cnn layers\n",
    "CONV_IP_SHAPE = [-1,9,9,1]\n",
    "CONV1_KERNEL = [4,4,1,32]\n",
    "CONV2_KERNEL = [4,4,32,64]\n",
    "CONV3_KERNEL = [4,4,64,128]\n",
    "REDUCTION_KERNEL = [1,1,128*WINDOW_SIZE,13]\n",
    "\n",
    "#For dnn layers"
   ]
  },
  {
   "cell_type": "code",
   "execution_count": 28,
   "metadata": {},
   "outputs": [],
   "source": [
    "#Resetting tf default graph\n",
    "tf.reset_default_graph()\n",
    "#CNN placeholders and model variables\n",
    "x_data_cnn = tf.placeholder(dtype = tf.float32,shape=(None,9,9),name='cnn_data')\n",
    "x_image = tf.reshape(x_data_cnn,CONV_IP_SHAPE,name='cnn_image')\n",
    "\n",
    "#LAYERS\n",
    "conv1 = conv_layer(x_image,CONV1_KERNEL,name=\"convo_l1\")\n",
    "conv2 = conv_layer(conv1,CONV2_KERNEL,name=\"convo_l2\")\n",
    "conv3 = conv_layer(conv2,CONV3_KERNEL,name=\"convo_l3\")\n",
    "#Depth variable\n",
    "depth = tf.reshape(conv3,[-1,9,9,128* WINDOW_SIZE])\n",
    "#Size reduction conv layer\n",
    "reduced_data = conv_layer(depth,REDUCTION_KERNEL,name=\"conv_reduced\")\n",
    "\n",
    "\n",
    "#RNN placeholder and model variables\n",
    "x_data_rnn = tf.placeholder(dtype = tf.float32,shape=(None,WINDOW_SIZE,INPUT_NODES),name='rnn_data') #TIME_STEP = WINDOW_SIZE\n",
    "keep_prob = tf.placeholder(dtype=tf.float32)\n",
    "\n",
    "#Making cells\n",
    "cell1 = dropout_wrapper(keep_prob, create_LSTM_cell(HIDDEN_ST))\n",
    "cell2 = dropout_wrapper(keep_prob, create_LSTM_cell(HIDDEN_ST))\n",
    "cells = [cell1,cell2]\n",
    "final_cell = create_Stacked_cell(cells)\n",
    "\n",
    "#Laying out the network\n",
    "output, states = create_RNN(final_cell,x_data_rnn)\n",
    "#Unstacking the output\n",
    "output = tf.unstack(tf.transpose(output, [1, 0, 2]), name='lstm_out')\n",
    "#Selecting the final output form the layer\n",
    "rnn_output = output[-1]\n",
    "\n",
    "#Placeholder for true values\n",
    "y_true = tf.placeholder(dtype=tf.float32,shape=(None,2)) #[Valance, Arousal]"
   ]
  },
  {
   "cell_type": "code",
   "execution_count": 30,
   "metadata": {},
   "outputs": [
    {
     "data": {
      "text/plain": [
       "<tf.Tensor 'lstm_out:63' shape=(?, 32) dtype=float32>"
      ]
     },
     "execution_count": 30,
     "metadata": {},
     "output_type": "execute_result"
    }
   ],
   "source": [
    "rnn_output"
   ]
  },
  {
   "cell_type": "code",
   "execution_count": 17,
   "metadata": {
    "scrolled": true
   },
   "outputs": [
    {
     "ename": "TypeError",
     "evalue": "concat() got multiple values for argument 'axis'",
     "output_type": "error",
     "traceback": [
      "\u001b[1;31m------------------------------------------------------------------\u001b[0m",
      "\u001b[1;31mTypeError\u001b[0m                        Traceback (most recent call last)",
      "\u001b[1;32m<ipython-input-17-7bd439986942>\u001b[0m in \u001b[0;36m<module>\u001b[1;34m()\u001b[0m\n\u001b[0;32m      3\u001b[0m \u001b[1;33m\u001b[0m\u001b[0m\n\u001b[0;32m      4\u001b[0m \u001b[1;31m#Concatenated layer\u001b[0m\u001b[1;33m\u001b[0m\u001b[1;33m\u001b[0m\u001b[0m\n\u001b[1;32m----> 5\u001b[1;33m \u001b[0mconcat\u001b[0m \u001b[1;33m=\u001b[0m \u001b[0mtf\u001b[0m\u001b[1;33m.\u001b[0m\u001b[0mconcat\u001b[0m\u001b[1;33m(\u001b[0m\u001b[0mflattened\u001b[0m\u001b[1;33m,\u001b[0m\u001b[0moutput\u001b[0m\u001b[1;33m,\u001b[0m\u001b[0maxis\u001b[0m\u001b[1;33m=\u001b[0m\u001b[1;36m1\u001b[0m\u001b[1;33m,\u001b[0m\u001b[0mname\u001b[0m\u001b[1;33m=\u001b[0m\u001b[1;34m\"DNN_inp_layer\"\u001b[0m\u001b[1;33m)\u001b[0m\u001b[1;33m\u001b[0m\u001b[0m\n\u001b[0m\u001b[0;32m      6\u001b[0m \u001b[1;33m\u001b[0m\u001b[0m\n\u001b[0;32m      7\u001b[0m \u001b[0mloss\u001b[0m \u001b[1;33m=\u001b[0m\u001b[0mtf\u001b[0m\u001b[1;33m.\u001b[0m\u001b[0mreduce_mean\u001b[0m\u001b[1;33m(\u001b[0m\u001b[0mtf\u001b[0m\u001b[1;33m.\u001b[0m\u001b[0mnn\u001b[0m\u001b[1;33m.\u001b[0m\u001b[0msoftmax_cross_entropy_with_logits\u001b[0m\u001b[1;33m(\u001b[0m\u001b[0mlabels\u001b[0m\u001b[1;33m=\u001b[0m\u001b[0mconcat\u001b[0m\u001b[1;33m,\u001b[0m\u001b[0mlogits\u001b[0m\u001b[1;33m=\u001b[0m\u001b[0my_true\u001b[0m\u001b[1;33m)\u001b[0m\u001b[1;33m)\u001b[0m\u001b[1;33m\u001b[0m\u001b[0m\n",
      "\u001b[1;31mTypeError\u001b[0m: concat() got multiple values for argument 'axis'"
     ]
    }
   ],
   "source": [
    "#Flattening the layer\n",
    "cnn_flattened = tf.reshape(reduced_data,shape=(1,9*9*13),name=\"cnn_flattened_layer\")\n",
    "rnn_flattened = tf.reshape(reduced_data,shape=(1,9*9*13),name=\"flattened_layer\")\n",
    "#Concatenated layer\n",
    "concat = tf.concat(flattened,output,axis=1,name=\"DNN_inp_layer\")\n",
    "\n",
    "loss =tf.reduce_mean(tf.nn.softmax_cross_entropy_with_logits(labels=concat,logits=y_true))"
   ]
  },
  {
   "cell_type": "code",
   "execution_count": 26,
   "metadata": {},
   "outputs": [
    {
     "data": {
      "text/plain": [
       "array([[[-0.92108723,  0.51119454,  1.80457011, ...,  0.01254206,\n",
       "         -0.18183114, -2.24695494],\n",
       "        [ 1.3790636 , -1.93384594, -2.03925328, ...,  0.44228523,\n",
       "         -1.13884058,  0.27234686],\n",
       "        [-0.98705137, -0.62784641,  0.74502159, ..., -1.18854712,\n",
       "         -1.30615287, -1.31756911],\n",
       "        ..., \n",
       "        [ 0.89464802,  0.25709804, -1.44513854, ...,  1.48483195,\n",
       "          1.62350871, -0.21983251],\n",
       "        [ 1.23658454,  0.15140786, -0.01281646, ..., -0.54696999,\n",
       "         -0.42204965,  1.16798753],\n",
       "        [ 0.46192329, -0.88710797,  0.53484171, ...,  0.15801033,\n",
       "          1.00805748, -0.02215798]],\n",
       "\n",
       "       [[-0.72877768,  0.99137989,  1.54779074, ..., -0.72355214,\n",
       "         -0.91883617, -0.54678315],\n",
       "        [-1.70137743, -0.45938045,  1.33178625, ...,  0.03758073,\n",
       "          0.68290029,  0.65547307],\n",
       "        [ 1.76979213, -0.32142321, -0.90092468, ...,  0.82097138,\n",
       "          0.25859655, -0.78353105],\n",
       "        ..., \n",
       "        [ 0.56507732, -0.34007031,  1.39852371, ...,  1.26446284,\n",
       "         -0.38990071, -1.72701788],\n",
       "        [ 0.34872106, -0.13459283, -0.08251291, ..., -0.47390776,\n",
       "          1.24520106,  0.76637033],\n",
       "        [-0.24703833,  0.03005748,  1.02443761, ..., -0.7579268 ,\n",
       "         -0.65460894, -0.30250491]],\n",
       "\n",
       "       [[-1.14375758, -0.78660161,  0.41161878, ...,  0.18212498,\n",
       "          0.96649199, -0.91578596],\n",
       "        [-0.67003557, -0.83594863, -0.37674646, ...,  0.59555066,\n",
       "          1.48302489,  0.30486371],\n",
       "        [ 0.07550118, -0.51336526, -0.52220343, ...,  0.46327936,\n",
       "          1.54915413,  0.28549359],\n",
       "        ..., \n",
       "        [ 1.6486668 , -0.28588787, -2.51923248, ..., -1.58696431,\n",
       "          0.39207595,  1.44525549],\n",
       "        [-1.16813632, -1.05247569,  0.14412622, ...,  0.5654657 ,\n",
       "         -0.39881013, -0.91994796],\n",
       "        [-1.16358303, -0.36098382, -2.00744363, ..., -0.83927863,\n",
       "         -1.25054424, -0.76822788]]])"
      ]
     },
     "execution_count": 26,
     "metadata": {},
     "output_type": "execute_result"
    }
   ],
   "source": [
    "np.random.normal(size=(3, 64, 32))"
   ]
  },
  {
   "cell_type": "code",
   "execution_count": 27,
   "metadata": {},
   "outputs": [
    {
     "data": {
      "text/plain": [
       "array([[-1.50114795, -1.19873007, -2.12938119, ...,  1.30758903,\n",
       "         0.84604743,  1.04389825],\n",
       "       [-0.72491582,  0.50324803, -0.69820828, ..., -0.25473753,\n",
       "        -0.32462902,  0.17865867],\n",
       "       [-2.09928722,  0.85296681, -0.89506893, ..., -0.60570931,\n",
       "         0.97952865, -0.20820975],\n",
       "       ..., \n",
       "       [-0.49071939, -0.36904269,  0.3147227 , ...,  1.34926275,\n",
       "        -0.04693931,  1.11850116],\n",
       "       [ 1.58204056,  1.94827058,  0.96320936, ...,  0.70269085,\n",
       "         1.72058611, -1.9299755 ],\n",
       "       [ 0.29752508, -0.12770634, -0.90254372, ...,  1.18144433,\n",
       "         2.84167381,  1.12360567]])"
      ]
     },
     "execution_count": 27,
     "metadata": {},
     "output_type": "execute_result"
    }
   ],
   "source": [
    "np.random.normal(size=(3, 64, 32)).reshape(-1,32)"
   ]
  },
  {
   "cell_type": "code",
   "execution_count": null,
   "metadata": {
    "collapsed": true
   },
   "outputs": [],
   "source": []
  }
 ],
 "metadata": {
  "kernelspec": {
   "display_name": "Python 3",
   "language": "python",
   "name": "python3"
  },
  "language_info": {
   "codemirror_mode": {
    "name": "ipython",
    "version": 3
   },
   "file_extension": ".py",
   "mimetype": "text/x-python",
   "name": "python",
   "nbconvert_exporter": "python",
   "pygments_lexer": "ipython3",
   "version": "3.6.3"
  }
 },
 "nbformat": 4,
 "nbformat_minor": 2
}
