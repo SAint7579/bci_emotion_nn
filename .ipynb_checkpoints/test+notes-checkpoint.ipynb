{
 "cells": [
  {
   "cell_type": "markdown",
   "metadata": {},
   "source": [
    "# Dataset description\n",
    "* 32 participants [s0 to s32]\n",
    "* 40 pieces of music\n",
    "* 40 channels out of which the first 32 are relevant \n",
    "* 8064 readings recorded at 128Hz\n"
   ]
  },
  {
   "cell_type": "code",
   "execution_count": 3,
   "metadata": {},
   "outputs": [],
   "source": [
    "from dataset_class import *"
   ]
  },
  {
   "cell_type": "code",
   "execution_count": 4,
   "metadata": {
    "collapsed": true
   },
   "outputs": [],
   "source": [
    "dataset = Dataset()"
   ]
  },
  {
   "cell_type": "code",
   "execution_count": 5,
   "metadata": {
    "scrolled": true
   },
   "outputs": [
    {
     "ename": "FileNotFoundError",
     "evalue": "[Errno 2] No such file or directory: './data_preprocessed_python/s01.dat'",
     "output_type": "error",
     "traceback": [
      "\u001b[1;31m------------------------------------------------------------------\u001b[0m",
      "\u001b[1;31mFileNotFoundError\u001b[0m                Traceback (most recent call last)",
      "\u001b[1;32m<ipython-input-5-0d3d7b395a6a>\u001b[0m in \u001b[0;36m<module>\u001b[1;34m()\u001b[0m\n\u001b[1;32m----> 1\u001b[1;33m \u001b[0meeg1d\u001b[0m\u001b[1;33m,\u001b[0m\u001b[0meeg2d\u001b[0m\u001b[1;33m,\u001b[0m\u001b[0mval\u001b[0m\u001b[1;33m,\u001b[0m\u001b[0maro\u001b[0m \u001b[1;33m=\u001b[0m \u001b[0mdataset\u001b[0m\u001b[1;33m.\u001b[0m\u001b[0mget_subject_data\u001b[0m\u001b[1;33m(\u001b[0m\u001b[1;36m1\u001b[0m\u001b[1;33m,\u001b[0m\u001b[1;36m1\u001b[0m\u001b[1;33m)\u001b[0m\u001b[1;33m\u001b[0m\u001b[0m\n\u001b[0m",
      "\u001b[1;32m~\\Desktop\\bci_emotion_nn\\dataset_class.py\u001b[0m in \u001b[0;36mget_subject_data\u001b[1;34m(self, subject_no, media_no)\u001b[0m\n\u001b[0;32m     94\u001b[0m         \u001b[1;31m#Importing the file\u001b[0m\u001b[1;33m\u001b[0m\u001b[1;33m\u001b[0m\u001b[0m\n\u001b[0;32m     95\u001b[0m         \u001b[0mfile_dir\u001b[0m \u001b[1;33m=\u001b[0m \u001b[0mself\u001b[0m\u001b[1;33m.\u001b[0m\u001b[0mdir\u001b[0m \u001b[1;33m+\u001b[0m \u001b[1;34m\"s\"\u001b[0m\u001b[1;33m+\u001b[0m\u001b[0mself\u001b[0m\u001b[1;33m.\u001b[0m\u001b[0msubject\u001b[0m\u001b[1;33m+\u001b[0m\u001b[1;34m'.dat'\u001b[0m\u001b[1;33m\u001b[0m\u001b[0m\n\u001b[1;32m---> 96\u001b[1;33m         \u001b[0mdata\u001b[0m \u001b[1;33m=\u001b[0m \u001b[0mpickle\u001b[0m\u001b[1;33m.\u001b[0m\u001b[0mload\u001b[0m\u001b[1;33m(\u001b[0m\u001b[0mopen\u001b[0m\u001b[1;33m(\u001b[0m\u001b[0mfile_dir\u001b[0m\u001b[1;33m,\u001b[0m \u001b[1;34m'rb'\u001b[0m\u001b[1;33m)\u001b[0m\u001b[1;33m,\u001b[0m\u001b[0mencoding\u001b[0m\u001b[1;33m=\u001b[0m\u001b[1;34m'latin1'\u001b[0m\u001b[1;33m)\u001b[0m\u001b[1;33m\u001b[0m\u001b[0m\n\u001b[0m\u001b[0;32m     97\u001b[0m         \u001b[1;31m#Fetching the required data\u001b[0m\u001b[1;33m\u001b[0m\u001b[1;33m\u001b[0m\u001b[0m\n\u001b[0;32m     98\u001b[0m         \u001b[0meeg_time_data\u001b[0m \u001b[1;33m=\u001b[0m \u001b[0mdata\u001b[0m\u001b[1;33m[\u001b[0m\u001b[1;34m'data'\u001b[0m\u001b[1;33m]\u001b[0m\u001b[1;33m[\u001b[0m\u001b[0mself\u001b[0m\u001b[1;33m.\u001b[0m\u001b[0mmedia\u001b[0m\u001b[1;33m]\u001b[0m\u001b[1;33m\u001b[0m\u001b[0m\n",
      "\u001b[1;31mFileNotFoundError\u001b[0m: [Errno 2] No such file or directory: './data_preprocessed_python/s01.dat'"
     ]
    }
   ],
   "source": [
    "eeg1d,eeg2d,val,aro = dataset.get_subject_data(1,1)"
   ]
  },
  {
   "cell_type": "code",
   "execution_count": 8,
   "metadata": {},
   "outputs": [
    {
     "data": {
      "text/plain": [
       "array([ 1.2498206 ,  1.15623106,  0.8683638 ,  1.27629497,  0.4896119 ,\n",
       "        0.48102755, -0.38277212,  0.49987022, -0.75212562, -1.02556829,\n",
       "       -1.66903859, -0.6772988 , -1.4642663 , -0.87630517, -0.31801062,\n",
       "       -1.20357281,  1.17242056,  1.07505816,  0.92314224,  1.69267808,\n",
       "        1.28584345,  0.79369162,  0.89657257,  0.01006585, -0.1483065 ,\n",
       "        0.30595259, -0.81115534, -0.99121292, -1.81148104, -0.22808273,\n",
       "       -1.38354702, -0.43390134])"
      ]
     },
     "execution_count": 8,
     "metadata": {},
     "output_type": "execute_result"
    }
   ],
   "source": [
    "eeg1d[0]"
   ]
  },
  {
   "cell_type": "code",
   "execution_count": 7,
   "metadata": {},
   "outputs": [
    {
     "data": {
      "text/plain": [
       "array([[ 0.        ,  0.        ,  0.        ,  1.2498206 ,  0.        ,\n",
       "         1.17242056,  0.        ,  0.        ,  0.        ],\n",
       "       [ 0.        ,  0.        ,  0.        ,  1.15623106,  0.        ,\n",
       "         1.07505816,  0.        ,  0.        ,  0.        ],\n",
       "       [ 1.27629497,  0.        ,  0.8683638 ,  0.        ,  0.92314224,\n",
       "         0.        ,  1.69267808,  0.        ,  1.28584345],\n",
       "       [ 0.        ,  0.4896119 ,  0.        ,  0.48102755,  0.        ,\n",
       "         0.89657257,  0.        ,  0.79369162,  0.        ],\n",
       "       [ 0.49987022,  0.        , -0.38277212,  0.        ,  0.01006585,\n",
       "         0.        , -0.1483065 ,  0.        ,  0.30595259],\n",
       "       [ 0.        , -0.75212562,  0.        , -1.02556829,  0.        ,\n",
       "        -0.99121292,  0.        , -0.81115534,  0.        ],\n",
       "       [-0.6772988 ,  0.        , -1.66903859,  0.        , -1.20357281,\n",
       "         0.        , -1.81148104,  0.        , -0.22808273],\n",
       "       [ 0.        ,  0.        ,  0.        , -1.4642663 ,  0.        ,\n",
       "        -1.38354702,  0.        ,  0.        ,  0.        ],\n",
       "       [ 0.        ,  0.        ,  0.        , -0.87630517, -0.31801062,\n",
       "        -0.43390134,  0.        ,  0.        ,  0.        ]])"
      ]
     },
     "execution_count": 7,
     "metadata": {},
     "output_type": "execute_result"
    }
   ],
   "source": [
    "eeg2d[0]"
   ]
  },
  {
   "cell_type": "code",
   "execution_count": 30,
   "metadata": {},
   "outputs": [
    {
     "data": {
      "text/plain": [
       "array([[ 0.        ,  0.        ,  0.        ,  1.2498206 ,  0.        ,\n",
       "         1.17242056,  0.        ,  0.        ,  0.        ],\n",
       "       [ 0.        ,  0.        ,  0.        ,  1.15623106,  0.        ,\n",
       "         1.07505816,  0.        ,  0.        ,  0.        ],\n",
       "       [ 1.27629497,  0.        ,  0.8683638 ,  0.        ,  0.92314224,\n",
       "         0.        ,  1.69267808,  0.        ,  1.28584345],\n",
       "       [ 0.        ,  0.4896119 ,  0.        ,  0.48102755,  0.        ,\n",
       "         0.89657257,  0.        ,  0.79369162,  0.        ],\n",
       "       [ 0.49987022,  0.        , -0.38277212,  0.        ,  0.01006585,\n",
       "         0.        , -0.1483065 ,  0.        ,  0.30595259],\n",
       "       [ 0.        , -0.75212562,  0.        , -1.02556829,  0.        ,\n",
       "        -0.99121292,  0.        , -0.81115534,  0.        ],\n",
       "       [-0.6772988 ,  0.        , -1.66903859,  0.        , -1.20357281,\n",
       "         0.        , -1.81148104,  0.        , -0.22808273],\n",
       "       [ 0.        ,  0.        ,  0.        , -1.4642663 ,  0.        ,\n",
       "        -1.38354702,  0.        ,  0.        ,  0.        ],\n",
       "       [ 0.        ,  0.        ,  0.        , -0.87630517, -0.31801062,\n",
       "        -0.43390134,  0.        ,  0.        ,  0.        ]])"
      ]
     },
     "execution_count": 30,
     "metadata": {},
     "output_type": "execute_result"
    }
   ],
   "source": [
    "dataset.norm_2D_dataset(eeg)[0]"
   ]
  },
  {
   "cell_type": "code",
   "execution_count": 32,
   "metadata": {},
   "outputs": [
    {
     "data": {
      "text/plain": [
       "array([ 1.2498206 ,  1.15623106,  0.8683638 ,  1.27629497,  0.4896119 ,\n",
       "        0.48102755, -0.38277212,  0.49987022, -0.75212562, -1.02556829,\n",
       "       -1.66903859, -0.6772988 , -1.4642663 , -0.87630517, -0.31801062,\n",
       "       -1.20357281,  1.17242056,  1.07505816,  0.92314224,  1.69267808,\n",
       "        1.28584345,  0.79369162,  0.89657257,  0.01006585, -0.1483065 ,\n",
       "        0.30595259, -0.81115534, -0.99121292, -1.81148104, -0.22808273,\n",
       "       -1.38354702, -0.43390134])"
      ]
     },
     "execution_count": 32,
     "metadata": {},
     "output_type": "execute_result"
    }
   ],
   "source": [
    "dataset.norm_1D_dataset(eeg)[0]"
   ]
  },
  {
   "cell_type": "code",
   "execution_count": 37,
   "metadata": {},
   "outputs": [
    {
     "data": {
      "text/plain": [
       "1"
      ]
     },
     "execution_count": 37,
     "metadata": {},
     "output_type": "execute_result"
    }
   ],
   "source": [
    "next(iter(range(1,100)))"
   ]
  },
  {
   "cell_type": "code",
   "execution_count": null,
   "metadata": {
    "collapsed": true
   },
   "outputs": [],
   "source": []
  }
 ],
 "metadata": {
  "kernelspec": {
   "display_name": "Python 3",
   "language": "python",
   "name": "python3"
  }
 },
 "nbformat": 4,
 "nbformat_minor": 2
}
